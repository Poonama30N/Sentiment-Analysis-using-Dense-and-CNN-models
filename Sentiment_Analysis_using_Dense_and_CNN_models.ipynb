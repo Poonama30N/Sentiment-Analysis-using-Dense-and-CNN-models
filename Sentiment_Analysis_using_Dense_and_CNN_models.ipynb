{
  "nbformat": 4,
  "nbformat_minor": 0,
  "metadata": {
    "colab": {
      "name": "Sentiment Analysis using Dense and CNN models",
      "provenance": [],
      "collapsed_sections": [
        "JlVm8GzH2LsO"
      ]
    },
    "kernelspec": {
      "name": "python3",
      "display_name": "Python 3"
    },
    "language_info": {
      "name": "python"
    },
    "accelerator": "GPU"
  },
  "cells": [
    {
      "cell_type": "markdown",
      "source": [
        "## Reading Input and loading required libraries"
      ],
      "metadata": {
        "id": "LWIhnlYlsZfG"
      }
    },
    {
      "cell_type": "code",
      "source": [
        "#Please upload the file here\n",
        "from google.colab import files\n",
        "uploaded = files.upload()"
      ],
      "metadata": {
        "colab": {
          "resources": {
            "http://localhost:8080/nbextensions/google.colab/files.js": {
              "data": "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",
              "ok": true,
              "headers": [
                [
                  "content-type",
                  "application/javascript"
                ]
              ],
              "status": 200,
              "status_text": ""
            }
          },
          "base_uri": "https://localhost:8080/",
          "height": 73
        },
        "id": "VqgN5M_hstJg",
        "outputId": "d178fb86-540c-49a2-db4b-aeaa51972315"
      },
      "execution_count": null,
      "outputs": [
        {
          "output_type": "display_data",
          "data": {
            "text/html": [
              "\n",
              "     <input type=\"file\" id=\"files-61ee5c9d-bd81-4784-aa6e-8ba69dcf4aa5\" name=\"files[]\" multiple disabled\n",
              "        style=\"border:none\" />\n",
              "     <output id=\"result-61ee5c9d-bd81-4784-aa6e-8ba69dcf4aa5\">\n",
              "      Upload widget is only available when the cell has been executed in the\n",
              "      current browser session. Please rerun this cell to enable.\n",
              "      </output>\n",
              "      <script src=\"/nbextensions/google.colab/files.js\"></script> "
            ],
            "text/plain": [
              "<IPython.core.display.HTML object>"
            ]
          },
          "metadata": {}
        },
        {
          "output_type": "stream",
          "name": "stdout",
          "text": [
            "Saving Sentiment140.tenPercent.sample.tweets.tsv to Sentiment140.tenPercent.sample.tweets.tsv\n"
          ]
        }
      ]
    },
    {
      "cell_type": "code",
      "execution_count": null,
      "metadata": {
        "id": "MAXEeZj-sQ2Q"
      },
      "outputs": [],
      "source": [
        "import pandas as pd\n",
        "import numpy as np\n",
        "import re\n",
        "import seaborn as sns\n",
        "from numpy import array\n",
        "from numpy import asarray\n",
        "from numpy import zeros\n",
        "from keras.preprocessing.sequence import pad_sequences\n",
        "from keras.models import Sequential\n",
        "from keras.layers.core import Activation, Dropout, Dense\n",
        "from keras.layers import Conv1D\n",
        "from keras.layers import GlobalMaxPooling1D\n",
        "from keras.layers import GlobalAveragePooling1D\n",
        "from keras.layers.embeddings import Embedding\n",
        "from sklearn.model_selection import train_test_split\n",
        "from keras.preprocessing.text import Tokenizer\n",
        "from sklearn.metrics import confusion_matrix\n",
        "from sklearn.metrics import classification_report\n",
        "from sklearn.metrics import roc_auc_score\n",
        "from sklearn.metrics import roc_curve\n",
        "from IPython.display import SVG\n",
        "from keras.utils.vis_utils import model_to_dot\n",
        "from keras.utils.vis_utils import plot_model\n",
        "import matplotlib.pyplot as plt\n",
        "%matplotlib inline\n",
        "from keras.callbacks import EarlyStopping, ModelCheckpoint"
      ]
    },
    {
      "cell_type": "code",
      "source": [
        "# Reading and looking at the data\n",
        "data =pd.read_csv('/content/Sentiment140.tenPercent.sample.tweets.tsv', sep= '\\t')\n",
        "data"
      ],
      "metadata": {
        "colab": {
          "base_uri": "https://localhost:8080/",
          "height": 424
        },
        "id": "EDfy0wN9tEEx",
        "outputId": "715e7074-5785-489f-96c8-b151ada9156e"
      },
      "execution_count": null,
      "outputs": [
        {
          "output_type": "execute_result",
          "data": {
            "text/html": [
              "\n",
              "  <div id=\"df-8f48ae95-f91a-4de9-bf5b-6704af247fa7\">\n",
              "    <div class=\"colab-df-container\">\n",
              "      <div>\n",
              "<style scoped>\n",
              "    .dataframe tbody tr th:only-of-type {\n",
              "        vertical-align: middle;\n",
              "    }\n",
              "\n",
              "    .dataframe tbody tr th {\n",
              "        vertical-align: top;\n",
              "    }\n",
              "\n",
              "    .dataframe thead th {\n",
              "        text-align: right;\n",
              "    }\n",
              "</style>\n",
              "<table border=\"1\" class=\"dataframe\">\n",
              "  <thead>\n",
              "    <tr style=\"text-align: right;\">\n",
              "      <th></th>\n",
              "      <th>sentiment_label</th>\n",
              "      <th>tweet_text</th>\n",
              "    </tr>\n",
              "  </thead>\n",
              "  <tbody>\n",
              "    <tr>\n",
              "      <th>0</th>\n",
              "      <td>4</td>\n",
              "      <td>@elephantbird Hey dear, Happy Friday to You  A...</td>\n",
              "    </tr>\n",
              "    <tr>\n",
              "      <th>1</th>\n",
              "      <td>4</td>\n",
              "      <td>Ughhh layin downnnn    Waiting for zeina to co...</td>\n",
              "    </tr>\n",
              "    <tr>\n",
              "      <th>2</th>\n",
              "      <td>0</td>\n",
              "      <td>@greeniebach I reckon he'll play, even if he's...</td>\n",
              "    </tr>\n",
              "    <tr>\n",
              "      <th>3</th>\n",
              "      <td>0</td>\n",
              "      <td>@vaLewee I know!  Saw it on the news!</td>\n",
              "    </tr>\n",
              "    <tr>\n",
              "      <th>4</th>\n",
              "      <td>0</td>\n",
              "      <td>very sad that http://www.fabchannel.com/ has c...</td>\n",
              "    </tr>\n",
              "    <tr>\n",
              "      <th>...</th>\n",
              "      <td>...</td>\n",
              "      <td>...</td>\n",
              "    </tr>\n",
              "    <tr>\n",
              "      <th>159995</th>\n",
              "      <td>0</td>\n",
              "      <td>STILL @ panera...studying for &amp;quot;mock&amp;quot;...</td>\n",
              "    </tr>\n",
              "    <tr>\n",
              "      <th>159996</th>\n",
              "      <td>0</td>\n",
              "      <td>Insomnia is out of control tonight--haven't sl...</td>\n",
              "    </tr>\n",
              "    <tr>\n",
              "      <th>159997</th>\n",
              "      <td>4</td>\n",
              "      <td>@Covergirl08 I take pride in what I do</td>\n",
              "    </tr>\n",
              "    <tr>\n",
              "      <th>159998</th>\n",
              "      <td>4</td>\n",
              "      <td>heading to work on the 6</td>\n",
              "    </tr>\n",
              "    <tr>\n",
              "      <th>159999</th>\n",
              "      <td>4</td>\n",
              "      <td>@queith asi es!</td>\n",
              "    </tr>\n",
              "  </tbody>\n",
              "</table>\n",
              "<p>160000 rows × 2 columns</p>\n",
              "</div>\n",
              "      <button class=\"colab-df-convert\" onclick=\"convertToInteractive('df-8f48ae95-f91a-4de9-bf5b-6704af247fa7')\"\n",
              "              title=\"Convert this dataframe to an interactive table.\"\n",
              "              style=\"display:none;\">\n",
              "        \n",
              "  <svg xmlns=\"http://www.w3.org/2000/svg\" height=\"24px\"viewBox=\"0 0 24 24\"\n",
              "       width=\"24px\">\n",
              "    <path d=\"M0 0h24v24H0V0z\" fill=\"none\"/>\n",
              "    <path d=\"M18.56 5.44l.94 2.06.94-2.06 2.06-.94-2.06-.94-.94-2.06-.94 2.06-2.06.94zm-11 1L8.5 8.5l.94-2.06 2.06-.94-2.06-.94L8.5 2.5l-.94 2.06-2.06.94zm10 10l.94 2.06.94-2.06 2.06-.94-2.06-.94-.94-2.06-.94 2.06-2.06.94z\"/><path d=\"M17.41 7.96l-1.37-1.37c-.4-.4-.92-.59-1.43-.59-.52 0-1.04.2-1.43.59L10.3 9.45l-7.72 7.72c-.78.78-.78 2.05 0 2.83L4 21.41c.39.39.9.59 1.41.59.51 0 1.02-.2 1.41-.59l7.78-7.78 2.81-2.81c.8-.78.8-2.07 0-2.86zM5.41 20L4 18.59l7.72-7.72 1.47 1.35L5.41 20z\"/>\n",
              "  </svg>\n",
              "      </button>\n",
              "      \n",
              "  <style>\n",
              "    .colab-df-container {\n",
              "      display:flex;\n",
              "      flex-wrap:wrap;\n",
              "      gap: 12px;\n",
              "    }\n",
              "\n",
              "    .colab-df-convert {\n",
              "      background-color: #E8F0FE;\n",
              "      border: none;\n",
              "      border-radius: 50%;\n",
              "      cursor: pointer;\n",
              "      display: none;\n",
              "      fill: #1967D2;\n",
              "      height: 32px;\n",
              "      padding: 0 0 0 0;\n",
              "      width: 32px;\n",
              "    }\n",
              "\n",
              "    .colab-df-convert:hover {\n",
              "      background-color: #E2EBFA;\n",
              "      box-shadow: 0px 1px 2px rgba(60, 64, 67, 0.3), 0px 1px 3px 1px rgba(60, 64, 67, 0.15);\n",
              "      fill: #174EA6;\n",
              "    }\n",
              "\n",
              "    [theme=dark] .colab-df-convert {\n",
              "      background-color: #3B4455;\n",
              "      fill: #D2E3FC;\n",
              "    }\n",
              "\n",
              "    [theme=dark] .colab-df-convert:hover {\n",
              "      background-color: #434B5C;\n",
              "      box-shadow: 0px 1px 3px 1px rgba(0, 0, 0, 0.15);\n",
              "      filter: drop-shadow(0px 1px 2px rgba(0, 0, 0, 0.3));\n",
              "      fill: #FFFFFF;\n",
              "    }\n",
              "  </style>\n",
              "\n",
              "      <script>\n",
              "        const buttonEl =\n",
              "          document.querySelector('#df-8f48ae95-f91a-4de9-bf5b-6704af247fa7 button.colab-df-convert');\n",
              "        buttonEl.style.display =\n",
              "          google.colab.kernel.accessAllowed ? 'block' : 'none';\n",
              "\n",
              "        async function convertToInteractive(key) {\n",
              "          const element = document.querySelector('#df-8f48ae95-f91a-4de9-bf5b-6704af247fa7');\n",
              "          const dataTable =\n",
              "            await google.colab.kernel.invokeFunction('convertToInteractive',\n",
              "                                                     [key], {});\n",
              "          if (!dataTable) return;\n",
              "\n",
              "          const docLinkHtml = 'Like what you see? Visit the ' +\n",
              "            '<a target=\"_blank\" href=https://colab.research.google.com/notebooks/data_table.ipynb>data table notebook</a>'\n",
              "            + ' to learn more about interactive tables.';\n",
              "          element.innerHTML = '';\n",
              "          dataTable['output_type'] = 'display_data';\n",
              "          await google.colab.output.renderOutput(dataTable, element);\n",
              "          const docLink = document.createElement('div');\n",
              "          docLink.innerHTML = docLinkHtml;\n",
              "          element.appendChild(docLink);\n",
              "        }\n",
              "      </script>\n",
              "    </div>\n",
              "  </div>\n",
              "  "
            ],
            "text/plain": [
              "        sentiment_label                                         tweet_text\n",
              "0                     4  @elephantbird Hey dear, Happy Friday to You  A...\n",
              "1                     4  Ughhh layin downnnn    Waiting for zeina to co...\n",
              "2                     0  @greeniebach I reckon he'll play, even if he's...\n",
              "3                     0              @vaLewee I know!  Saw it on the news!\n",
              "4                     0  very sad that http://www.fabchannel.com/ has c...\n",
              "...                 ...                                                ...\n",
              "159995                0  STILL @ panera...studying for &quot;mock&quot;...\n",
              "159996                0  Insomnia is out of control tonight--haven't sl...\n",
              "159997                4            @Covergirl08 I take pride in what I do \n",
              "159998                4                          heading to work on the 6 \n",
              "159999                4                                   @queith asi es! \n",
              "\n",
              "[160000 rows x 2 columns]"
            ]
          },
          "metadata": {},
          "execution_count": 6
        }
      ]
    },
    {
      "cell_type": "code",
      "source": [
        "# looking for null values\n",
        "data.isnull().sum() # data doesnt have any null values"
      ],
      "metadata": {
        "colab": {
          "base_uri": "https://localhost:8080/"
        },
        "id": "enTxXcrttJGd",
        "outputId": "01d0b9dd-7933-41de-e49f-583e52a38b5d"
      },
      "execution_count": null,
      "outputs": [
        {
          "output_type": "execute_result",
          "data": {
            "text/plain": [
              "sentiment_label    0\n",
              "tweet_text         0\n",
              "dtype: int64"
            ]
          },
          "metadata": {},
          "execution_count": 7
        }
      ]
    },
    {
      "cell_type": "code",
      "source": [
        "# Looking at the distribution of target classses\n",
        "sns.countplot(data=data, x='sentiment_label')"
      ],
      "metadata": {
        "colab": {
          "base_uri": "https://localhost:8080/",
          "height": 297
        },
        "id": "8MpvayamtTus",
        "outputId": "097fd215-b588-4695-f2c8-3db51543c4a4"
      },
      "execution_count": null,
      "outputs": [
        {
          "output_type": "execute_result",
          "data": {
            "text/plain": [
              "<matplotlib.axes._subplots.AxesSubplot at 0x7f4c36492090>"
            ]
          },
          "metadata": {},
          "execution_count": 41
        },
        {
          "output_type": "display_data",
          "data": {
            "image/png": "[encoded data removed]",
            "text/plain": [
              "<Figure size 432x288 with 1 Axes>"
            ]
          },
          "metadata": {
            "needs_background": "light"
          }
        }
      ]
    },
    {
      "cell_type": "code",
      "source": [
        "# Converting positive sentiments '4' to 1 and negative sentiments '0' as 0\n",
        "def convert(x):\n",
        "    if x == 4:\n",
        "        return 1\n",
        "    else:\n",
        "        return 0\n",
        "    \n",
        "y = data['sentiment_label'].apply(lambda x: convert(x))"
      ],
      "metadata": {
        "id": "MffcY_nptmoe"
      },
      "execution_count": null,
      "outputs": []
    },
    {
      "cell_type": "markdown",
      "source": [
        "## Data Preprocessing"
      ],
      "metadata": {
        "id": "mTPzWFjWtzc7"
      }
    },
    {
      "cell_type": "markdown",
      "source": [
        "### 1. Removing HTML tags, punctuations, numbers, single characters and multiple spaces"
      ],
      "metadata": {
        "id": "9ywKxPWGuIte"
      }
    },
    {
      "cell_type": "code",
      "source": [
        "#Removing HTML tags\n",
        "TAG_RE = re.compile(r'<[^>]+>')\n",
        "\n",
        "def remove_tags(text):\n",
        "    return TAG_RE.sub('', text)"
      ],
      "metadata": {
        "id": "NXM8IPP1uHDn"
      },
      "execution_count": null,
      "outputs": []
    },
    {
      "cell_type": "code",
      "source": [
        "def preprocess_text(sen):\n",
        "  # coverting into lower case\n",
        "  sentence = sen.lower()\n",
        "\n",
        "  # Removing html tags\n",
        "  sentence = remove_tags(sentence)\n",
        "\n",
        "  # Remove punctuations and numbers\n",
        "  sentence = re.sub('[^a-zA-Z]', ' ', sentence)\n",
        "\n",
        "  # Single character removal of 'a'\n",
        "  sentence = re.sub(r\"\\s+[a-zA-Z]\\s+\", ' ', sentence)\n",
        "\n",
        "  # Removing multiple spaces\n",
        "  sentence = re.sub(r'\\s+', ' ', sentence)\n",
        "\n",
        "  return sentence"
      ],
      "metadata": {
        "id": "lpYzsf73vXbv"
      },
      "execution_count": null,
      "outputs": []
    },
    {
      "cell_type": "code",
      "source": [
        "# Storing all the cleaned tweets data in variable X\n",
        "X = []\n",
        "sentences = list(data['tweet_text'])\n",
        "for sen in sentences:\n",
        "    X.append(preprocess_text(sen))"
      ],
      "metadata": {
        "id": "Jw40tRiZv4dV"
      },
      "execution_count": null,
      "outputs": []
    },
    {
      "cell_type": "code",
      "source": [
        "# Splitting the data into trainign and testing data\n",
        "X_train, X_test, y_train, y_test = train_test_split(X,y, test_size=0.20, random_state=12)"
      ],
      "metadata": {
        "id": "q3g05BXpxIM-"
      },
      "execution_count": null,
      "outputs": []
    },
    {
      "cell_type": "markdown",
      "source": [
        "###2. Tokenization "
      ],
      "metadata": {
        "id": "Tx-tsiyOxgTA"
      }
    },
    {
      "cell_type": "code",
      "source": [
        "tokenizer = Tokenizer(num_words=20000)\n",
        "tokenizer.fit_on_texts(X_train)\n",
        "\n",
        "X_train = tokenizer.texts_to_sequences(X_train)\n",
        "X_test = tokenizer.texts_to_sequences(X_test)"
      ],
      "metadata": {
        "id": "IYLqHVENxtma"
      },
      "execution_count": null,
      "outputs": []
    },
    {
      "cell_type": "code",
      "source": [
        "# Adding 1 because of reserved 0 index\n",
        "vocab_size = len(tokenizer.word_index) + 1\n",
        "\n",
        "maxlen = 100\n",
        "\n",
        "X_train = pad_sequences(X_train, padding='post', maxlen=maxlen)\n",
        "X_test = pad_sequences(X_test, padding='post', maxlen=maxlen)"
      ],
      "metadata": {
        "id": "hyqcE4Fjx2UB"
      },
      "execution_count": null,
      "outputs": []
    },
    {
      "cell_type": "markdown",
      "source": [
        "###3. Word Embeddings"
      ],
      "metadata": {
        "id": "nPZtY4IIBBv-"
      }
    },
    {
      "cell_type": "code",
      "source": [
        "!wget http://nlp.stanford.edu/data/glove.6B.zip\n",
        "!unzip glove.6B.zip"
      ],
      "metadata": {
        "id": "KdBmDvSIdDkZ",
        "colab": {
          "base_uri": "https://localhost:8080/"
        },
        "outputId": "dc7fcc63-32f1-4e64-aecc-f8797fa2741a"
      },
      "execution_count": null,
      "outputs": [
        {
          "output_type": "stream",
          "name": "stdout",
          "text": [
            "--2022-02-14 22:04:20--  http://nlp.stanford.edu/data/glove.6B.zip\n",
            "Resolving nlp.stanford.edu (nlp.stanford.edu)... 171.64.67.140\n",
            "Connecting to nlp.stanford.edu (nlp.stanford.edu)|171.64.67.140|:80... connected.\n",
            "HTTP request sent, awaiting response... 302 Found\n",
            "Location: https://nlp.stanford.edu/data/glove.6B.zip [following]\n",
            "--2022-02-14 22:04:20--  https://nlp.stanford.edu/data/glove.6B.zip\n",
            "Connecting to nlp.stanford.edu (nlp.stanford.edu)|171.64.67.140|:443... connected.\n",
            "HTTP request sent, awaiting response... 301 Moved Permanently\n",
            "Location: http://downloads.cs.stanford.edu/nlp/data/glove.6B.zip [following]\n",
            "--2022-02-14 22:04:20--  http://downloads.cs.stanford.edu/nlp/data/glove.6B.zip\n",
            "Resolving downloads.cs.stanford.edu (downloads.cs.stanford.edu)... 171.64.64.22\n",
            "Connecting to downloads.cs.stanford.edu (downloads.cs.stanford.edu)|171.64.64.22|:80... connected.\n",
            "HTTP request sent, awaiting response... 200 OK\n",
            "Length: 862182613 (822M) [application/zip]\n",
            "Saving to: ‘glove.6B.zip’\n",
            "\n",
            "glove.6B.zip        100%[===================>] 822.24M  5.18MB/s    in 2m 40s  \n",
            "\n",
            "2022-02-14 22:07:00 (5.15 MB/s) - ‘glove.6B.zip’ saved [862182613/862182613]\n",
            "\n",
            "Archive:  glove.6B.zip\n",
            "  inflating: glove.6B.50d.txt        \n",
            "  inflating: glove.6B.100d.txt       \n",
            "  inflating: glove.6B.200d.txt       \n",
            "  inflating: glove.6B.300d.txt       \n"
          ]
        }
      ]
    },
    {
      "cell_type": "code",
      "source": [
        "embeddings_dictionary = dict()\n",
        "glove_file = open('glove.6B.100d.txt', encoding=\"utf8\")\n",
        "\n",
        "for line in glove_file:\n",
        "    records = line.split()\n",
        "    word = records[0]\n",
        "    vector_dimensions = asarray(records[1:], dtype='float32')\n",
        "    embeddings_dictionary [word] = vector_dimensions\n",
        "glove_file.close()"
      ],
      "metadata": {
        "id": "J4JuYph1dEi4"
      },
      "execution_count": null,
      "outputs": []
    },
    {
      "cell_type": "code",
      "source": [
        "embedding_matrix = zeros((vocab_size, 100))\n",
        "for word, index in tokenizer.word_index.items():\n",
        "    embedding_vector = embeddings_dictionary.get(word)\n",
        "    if embedding_vector is not None:\n",
        "        embedding_matrix[index] = embedding_vector"
      ],
      "metadata": {
        "id": "YzrZxIYxdGiL"
      },
      "execution_count": null,
      "outputs": []
    },
    {
      "cell_type": "markdown",
      "source": [
        "## Building Machine Learning Models"
      ],
      "metadata": {
        "id": "fMwD0F9Jx6Zr"
      }
    },
    {
      "cell_type": "markdown",
      "source": [
        "### 1. Dense Model"
      ],
      "metadata": {
        "id": "EUnshKhmyBrg"
      }
    },
    {
      "cell_type": "code",
      "source": [
        "# The first model is a simple sequential Dense model\n",
        "\n",
        "#Defining model\n",
        "model = Sequential() \n",
        "\n",
        "#adding layers\n",
        "model.add(Embedding(vocab_size, 100, weights=[embedding_matrix],input_length=maxlen)),\n",
        "model.add(GlobalAveragePooling1D()),\n",
        "model.add(Dense(40, activation='relu')),\n",
        "model.add(Dropout(0.5))\n",
        "model.add(Dense(10, activation='relu')),\n",
        "model.add(Dropout(0.5))\n",
        "model.add(Dense(10, activation='relu')),\n",
        "model.add(Dense(5, activation='relu')),\n",
        "\n",
        "#output layer\n",
        "model.add(Dense(1, activation='sigmoid'))\n",
        "\n",
        "#compiling layer\n",
        "model.compile(optimizer='adam', loss='binary_crossentropy', metrics=['acc'])\n",
        "\n",
        "callbacks = [EarlyStopping(monitor=\"val_loss\", patience=1),ModelCheckpoint(filepath=\"best_model.h5\", monitor=\"val_loss\", save_best_only=True)]\n",
        "print(model.summary())"
      ],
      "metadata": {
        "colab": {
          "base_uri": "https://localhost:8080/"
        },
        "id": "gBLbOIV1x--r",
        "outputId": "38c530d4-e35e-423d-daf8-6bb6b9c79cc7"
      },
      "execution_count": null,
      "outputs": [
        {
          "output_type": "stream",
          "name": "stdout",
          "text": [
            "Model: \"sequential_22\"\n",
            "_________________________________________________________________\n",
            " Layer (type)                Output Shape              Param #   \n",
            "=================================================================\n",
            " embedding_22 (Embedding)    (None, 100, 100)          10633400  \n",
            "                                                                 \n",
            " global_average_pooling1d_10  (None, 100)              0         \n",
            "  (GlobalAveragePooling1D)                                       \n",
            "                                                                 \n",
            " dense_83 (Dense)            (None, 40)                4040      \n",
            "                                                                 \n",
            " dropout_31 (Dropout)        (None, 40)                0         \n",
            "                                                                 \n",
            " dense_84 (Dense)            (None, 10)                410       \n",
            "                                                                 \n",
            " dropout_32 (Dropout)        (None, 10)                0         \n",
            "                                                                 \n",
            " dense_85 (Dense)            (None, 10)                110       \n",
            "                                                                 \n",
            " dense_86 (Dense)            (None, 5)                 55        \n",
            "                                                                 \n",
            " dense_87 (Dense)            (None, 1)                 6         \n",
            "                                                                 \n",
            "=================================================================\n",
            "Total params: 10,638,021\n",
            "Trainable params: 10,638,021\n",
            "Non-trainable params: 0\n",
            "_________________________________________________________________\n",
            "None\n"
          ]
        }
      ]
    },
    {
      "cell_type": "code",
      "source": [
        "model.fit(X_train, y_train, batch_size=2000, epochs=20, verbose=1, validation_split=0.2, callbacks=callbacks)"
      ],
      "metadata": {
        "colab": {
          "base_uri": "https://localhost:8080/"
        },
        "id": "pbDISirHySrT",
        "outputId": "ca90c9ad-f0e9-489e-c390-166971f8e67d"
      },
      "execution_count": null,
      "outputs": [
        {
          "output_type": "stream",
          "name": "stdout",
          "text": [
            "Epoch 1/20\n",
            "52/52 [==============================] - 5s 63ms/step - loss: 0.6918 - acc: 0.5230 - val_loss: 0.6896 - val_acc: 0.5652\n",
            "Epoch 2/20\n",
            "52/52 [==============================] - 2s 48ms/step - loss: 0.6807 - acc: 0.5916 - val_loss: 0.6557 - val_acc: 0.6585\n",
            "Epoch 3/20\n",
            "52/52 [==============================] - 2s 42ms/step - loss: 0.6350 - acc: 0.6976 - val_loss: 0.5975 - val_acc: 0.7252\n",
            "Epoch 4/20\n",
            "52/52 [==============================] - 2s 42ms/step - loss: 0.5927 - acc: 0.7463 - val_loss: 0.5741 - val_acc: 0.7593\n",
            "Epoch 5/20\n",
            "52/52 [==============================] - 2s 41ms/step - loss: 0.5645 - acc: 0.7679 - val_loss: 0.5571 - val_acc: 0.7689\n",
            "Epoch 6/20\n",
            "52/52 [==============================] - 2s 41ms/step - loss: 0.5458 - acc: 0.7793 - val_loss: 0.5489 - val_acc: 0.7662\n",
            "Epoch 7/20\n",
            "52/52 [==============================] - 2s 41ms/step - loss: 0.5276 - acc: 0.7903 - val_loss: 0.5369 - val_acc: 0.7771\n",
            "Epoch 8/20\n",
            "52/52 [==============================] - 2s 41ms/step - loss: 0.5140 - acc: 0.7969 - val_loss: 0.5317 - val_acc: 0.7762\n",
            "Epoch 9/20\n",
            "52/52 [==============================] - 2s 41ms/step - loss: 0.5009 - acc: 0.8039 - val_loss: 0.5268 - val_acc: 0.7780\n",
            "Epoch 10/20\n",
            "52/52 [==============================] - 2s 35ms/step - loss: 0.4901 - acc: 0.8083 - val_loss: 0.5319 - val_acc: 0.7634\n"
          ]
        },
        {
          "output_type": "execute_result",
          "data": {
            "text/plain": [
              "<keras.callbacks.History at 0x7f8acf985b10>"
            ]
          },
          "metadata": {},
          "execution_count": 153
        }
      ]
    },
    {
      "cell_type": "code",
      "source": [
        "#Plotting loss and accuracy of training and validation sets\n",
        "df = pd.DataFrame(model.history.history)\n",
        "# plotting loss\n",
        "plt.plot(df['loss'])\n",
        "plt.plot(df['val_loss'])\n",
        "plt.legend(['training loss','validation loss'])\n",
        "plt.show()\n",
        "\n",
        "#plotting accuracy\n",
        "plt.plot(df['acc'],color = 'green')\n",
        "plt.plot(df['val_acc'], color='blue')\n",
        "plt.legend(['training accuracy','validation accuracy'])\n",
        "plt.show()"
      ],
      "metadata": {
        "colab": {
          "base_uri": "https://localhost:8080/",
          "height": 513
        },
        "id": "aM2rcWVZzSP-",
        "outputId": "fde2c099-c2b3-4c23-abd0-846326968e80"
      },
      "execution_count": null,
      "outputs": [
        {
          "output_type": "display_data",
          "data": {
            "image/png": "[encoded data removed]",
            "text/plain": [
              "<Figure size 432x288 with 1 Axes>"
            ]
          },
          "metadata": {
            "needs_background": "light"
          }
        },
        {
          "output_type": "display_data",
          "data": {
            "image/png": "[encoded data removed]",
            "text/plain": [
              "<Figure size 432x288 with 1 Axes>"
            ]
          },
          "metadata": {
            "needs_background": "light"
          }
        }
      ]
    },
    {
      "cell_type": "code",
      "source": [
        "\n",
        "# Evaluating model's loss, accuracy on Training and Testing data\n",
        "train  = model.evaluate(X_train, y_train,verbose=0)\n",
        "print('Model loss on training data is : ',round(train[0],2))\n",
        "print('Model accuracy on training data is : ',round(train[1]*100,2),'%')\n",
        "print()\n",
        "test  = model.evaluate(X_test, y_test,verbose=0)\n",
        "print('Model loss on testing data is : ',round(test[0],2))\n",
        "print('Model accuracy on testing data is : ',round(test[1]*100,2),'%')"
      ],
      "metadata": {
        "colab": {
          "base_uri": "https://localhost:8080/"
        },
        "id": "NW3_-Ll-yW-s",
        "outputId": "8eaf895c-ec71-4406-c7f5-36f5aca01187"
      },
      "execution_count": null,
      "outputs": [
        {
          "output_type": "stream",
          "name": "stdout",
          "text": [
            "Model loss on training data is :  0.49\n",
            "Model accuracy on training data is :  80.25 %\n",
            "\n",
            "Model loss on testing data is :  0.53\n",
            "Model accuracy on testing data is :  76.09 %\n"
          ]
        }
      ]
    },
    {
      "cell_type": "markdown",
      "source": [
        "####Performance evaluation"
      ],
      "metadata": {
        "id": "JlVm8GzH2LsO"
      }
    },
    {
      "cell_type": "code",
      "source": [
        "# Classification report for precision,reaccl,f1-score of each class, and accuracy of over all model\n",
        "\n",
        "y_pred = (model.predict(X_test)).round().astype(\"int32\")\n",
        "print(classification_report(y_test, y_pred))\n",
        "\n",
        "#confusion matrix\n",
        "print('Confusion matrix : ')\n",
        "print(confusion_matrix(y_test, y_pred))"
      ],
      "metadata": {
        "colab": {
          "base_uri": "https://localhost:8080/"
        },
        "id": "9yRiKksh0Sak",
        "outputId": "69708af9-915b-46d2-8b76-8780a58f2a43"
      },
      "execution_count": null,
      "outputs": [
        {
          "output_type": "stream",
          "name": "stdout",
          "text": [
            "              precision    recall  f1-score   support\n",
            "\n",
            "           0       0.80      0.75      0.77     15869\n",
            "           1       0.76      0.81      0.79     16131\n",
            "\n",
            "    accuracy                           0.78     32000\n",
            "   macro avg       0.78      0.78      0.78     32000\n",
            "weighted avg       0.78      0.78      0.78     32000\n",
            "\n",
            "Confusion matrix : \n",
            "[[11834  4035]\n",
            " [ 3050 13081]]\n"
          ]
        }
      ]
    },
    {
      "cell_type": "code",
      "source": [
        "# AUC Score of the model\n",
        "auc_score = roc_auc_score(y_test, model.predict(X_test))\n",
        "print('AUC score of the model is :',round(auc_score,3))\n",
        "\n",
        "# roc curve for models\n",
        "fpr, tpr, _ = roc_curve(y_test, model.predict(X_test))\n",
        "\n",
        "# roc curve for tpr = fpr \n",
        "random_probs = [0 for i in range(len(y_test))]\n",
        "p_fpr, p_tpr, _ = roc_curve(y_test, random_probs, pos_label=1)"
      ],
      "metadata": {
        "colab": {
          "base_uri": "https://localhost:8080/"
        },
        "id": "PrkTIMn42O6Z",
        "outputId": "b14a6a98-cb11-4f4a-e451-c05ca5d8d8d4"
      },
      "execution_count": null,
      "outputs": [
        {
          "output_type": "stream",
          "name": "stdout",
          "text": [
            "AUC score of the model is : 0.853\n"
          ]
        }
      ]
    },
    {
      "cell_type": "code",
      "source": [
        "# Plotting ROC Curve\n",
        "plt.plot(fpr, tpr,color='blue',linestyle=':')\n",
        "plt.plot(p_fpr, p_tpr, linestyle='--', color='orange')\n",
        "plt.title('ROC curve')\n",
        "# x label\n",
        "plt.xlabel('False Positive Rate')\n",
        "# y label\n",
        "plt.ylabel('True Positive rate')\n",
        "plt.legend(['Neural Network model'],loc='best')\n",
        "plt.show()"
      ],
      "metadata": {
        "colab": {
          "base_uri": "https://localhost:8080/",
          "height": 295
        },
        "id": "321N0Vdw2ZGf",
        "outputId": "d94fb9d9-b781-4a25-8c1d-fde6c9324822"
      },
      "execution_count": null,
      "outputs": [
        {
          "output_type": "display_data",
          "data": {
            "image/png": "[encoded data removed]",
            "text/plain": [
              "<Figure size 432x288 with 1 Axes>"
            ]
          },
          "metadata": {
            "needs_background": "light"
          }
        }
      ]
    },
    {
      "cell_type": "code",
      "source": [
        "# Visualize network architecture\n",
        "SVG(model_to_dot(model, show_shapes=True,show_layer_names=True, dpi=65).create(prog=\"dot\", format=\"svg\"))"
      ],
      "metadata": {
        "colab": {
          "base_uri": "https://localhost:8080/",
          "height": 987
        },
        "id": "5gOqyvzQECj1",
        "outputId": "59633645-183b-4aed-defb-209cad2754aa"
      },
      "execution_count": null,
      "outputs": [
        {
          "output_type": "execute_result",
          "data": {
            "text/plain": [
              "<IPython.core.display.SVG object>"
            ],
            "image/svg+xml": "<svg height=\"724pt\" viewBox=\"0.00 0.00 521.00 802.00\" width=\"470pt\" xmlns=\"http://www.w3.org/2000/svg\" xmlns:xlink=\"http://www.w3.org/1999/xlink\">\n<g class=\"graph\" id=\"graph0\" transform=\"scale(.9028 .9028) rotate(0) translate(4 798)\">\n<title>G</title>\n<polygon fill=\"#ffffff\" points=\"-4,4 -4,-798 517,-798 517,4 -4,4\" stroke=\"transparent\"/>\n<!-- 140238446465360 -->\n<g class=\"node\" id=\"node1\">\n<title>140238446465360</title>\n<polygon fill=\"none\" points=\"80,-747.5 80,-793.5 433,-793.5 433,-747.5 80,-747.5\" stroke=\"#000000\"/>\n<text fill=\"#000000\" font-family=\"Times,serif\" font-size=\"14.00\" text-anchor=\"middle\" x=\"139.5\" y=\"-766.8\">embedding_input</text>\n<polyline fill=\"none\" points=\"199,-747.5 199,-793.5 \" stroke=\"#000000\"/>\n<text fill=\"#000000\" font-family=\"Times,serif\" font-size=\"14.00\" text-anchor=\"middle\" x=\"239\" y=\"-766.8\">InputLayer</text>\n<polyline fill=\"none\" points=\"279,-747.5 279,-793.5 \" stroke=\"#000000\"/>\n<text fill=\"#000000\" font-family=\"Times,serif\" font-size=\"14.00\" text-anchor=\"middle\" x=\"308\" y=\"-778.3\">input:</text>\n<polyline fill=\"none\" points=\"279,-770.5 337,-770.5 \" stroke=\"#000000\"/>\n<text fill=\"#000000\" font-family=\"Times,serif\" font-size=\"14.00\" text-anchor=\"middle\" x=\"308\" y=\"-755.3\">output:</text>\n<polyline fill=\"none\" points=\"337,-747.5 337,-793.5 \" stroke=\"#000000\"/>\n<text fill=\"#000000\" font-family=\"Times,serif\" font-size=\"14.00\" text-anchor=\"middle\" x=\"385\" y=\"-778.3\">[(None, 100)]</text>\n<polyline fill=\"none\" points=\"337,-770.5 433,-770.5 \" stroke=\"#000000\"/>\n<text fill=\"#000000\" font-family=\"Times,serif\" font-size=\"14.00\" text-anchor=\"middle\" x=\"385\" y=\"-755.3\">[(None, 100)]</text>\n</g>\n<!-- 140238628409872 -->\n<g class=\"node\" id=\"node2\">\n<title>140238628409872</title>\n<polygon fill=\"none\" points=\"86.5,-664.5 86.5,-710.5 426.5,-710.5 426.5,-664.5 86.5,-664.5\" stroke=\"#000000\"/>\n<text fill=\"#000000\" font-family=\"Times,serif\" font-size=\"14.00\" text-anchor=\"middle\" x=\"127\" y=\"-683.8\">embedding</text>\n<polyline fill=\"none\" points=\"167.5,-664.5 167.5,-710.5 \" stroke=\"#000000\"/>\n<text fill=\"#000000\" font-family=\"Times,serif\" font-size=\"14.00\" text-anchor=\"middle\" x=\"209.5\" y=\"-683.8\">Embedding</text>\n<polyline fill=\"none\" points=\"251.5,-664.5 251.5,-710.5 \" stroke=\"#000000\"/>\n<text fill=\"#000000\" font-family=\"Times,serif\" font-size=\"14.00\" text-anchor=\"middle\" x=\"280.5\" y=\"-695.3\">input:</text>\n<polyline fill=\"none\" points=\"251.5,-687.5 309.5,-687.5 \" stroke=\"#000000\"/>\n<text fill=\"#000000\" font-family=\"Times,serif\" font-size=\"14.00\" text-anchor=\"middle\" x=\"280.5\" y=\"-672.3\">output:</text>\n<polyline fill=\"none\" points=\"309.5,-664.5 309.5,-710.5 \" stroke=\"#000000\"/>\n<text fill=\"#000000\" font-family=\"Times,serif\" font-size=\"14.00\" text-anchor=\"middle\" x=\"368\" y=\"-695.3\">(None, 100)</text>\n<polyline fill=\"none\" points=\"309.5,-687.5 426.5,-687.5 \" stroke=\"#000000\"/>\n<text fill=\"#000000\" font-family=\"Times,serif\" font-size=\"14.00\" text-anchor=\"middle\" x=\"368\" y=\"-672.3\">(None, 100, 100)</text>\n</g>\n<!-- 140238446465360&#45;&gt;140238628409872 -->\n<g class=\"edge\" id=\"edge1\">\n<title>140238446465360-&gt;140238628409872</title>\n<path d=\"M256.5,-747.3799C256.5,-739.1745 256.5,-729.7679 256.5,-720.8786\" fill=\"none\" stroke=\"#000000\"/>\n<polygon fill=\"#000000\" points=\"260.0001,-720.784 256.5,-710.784 253.0001,-720.784 260.0001,-720.784\" stroke=\"#000000\"/>\n</g>\n<!-- 140238628409424 -->\n<g class=\"node\" id=\"node3\">\n<title>140238628409424</title>\n<polygon fill=\"none\" points=\"0,-581.5 0,-627.5 513,-627.5 513,-581.5 0,-581.5\" stroke=\"#000000\"/>\n<text fill=\"#000000\" font-family=\"Times,serif\" font-size=\"14.00\" text-anchor=\"middle\" x=\"85.5\" y=\"-600.8\">global_average_pooling1d</text>\n<polyline fill=\"none\" points=\"171,-581.5 171,-627.5 \" stroke=\"#000000\"/>\n<text fill=\"#000000\" font-family=\"Times,serif\" font-size=\"14.00\" text-anchor=\"middle\" x=\"254.5\" y=\"-600.8\">GlobalAveragePooling1D</text>\n<polyline fill=\"none\" points=\"338,-581.5 338,-627.5 \" stroke=\"#000000\"/>\n<text fill=\"#000000\" font-family=\"Times,serif\" font-size=\"14.00\" text-anchor=\"middle\" x=\"367\" y=\"-612.3\">input:</text>\n<polyline fill=\"none\" points=\"338,-604.5 396,-604.5 \" stroke=\"#000000\"/>\n<text fill=\"#000000\" font-family=\"Times,serif\" font-size=\"14.00\" text-anchor=\"middle\" x=\"367\" y=\"-589.3\">output:</text>\n<polyline fill=\"none\" points=\"396,-581.5 396,-627.5 \" stroke=\"#000000\"/>\n<text fill=\"#000000\" font-family=\"Times,serif\" font-size=\"14.00\" text-anchor=\"middle\" x=\"454.5\" y=\"-612.3\">(None, 100, 100)</text>\n<polyline fill=\"none\" points=\"396,-604.5 513,-604.5 \" stroke=\"#000000\"/>\n<text fill=\"#000000\" font-family=\"Times,serif\" font-size=\"14.00\" text-anchor=\"middle\" x=\"454.5\" y=\"-589.3\">(None, 100)</text>\n</g>\n<!-- 140238628409872&#45;&gt;140238628409424 -->\n<g class=\"edge\" id=\"edge2\">\n<title>140238628409872-&gt;140238628409424</title>\n<path d=\"M256.5,-664.3799C256.5,-656.1745 256.5,-646.7679 256.5,-637.8786\" fill=\"none\" stroke=\"#000000\"/>\n<polygon fill=\"#000000\" points=\"260.0001,-637.784 256.5,-627.784 253.0001,-637.784 260.0001,-637.784\" stroke=\"#000000\"/>\n</g>\n<!-- 140238446301712 -->\n<g class=\"node\" id=\"node4\">\n<title>140238446301712</title>\n<polygon fill=\"none\" points=\"133.5,-498.5 133.5,-544.5 379.5,-544.5 379.5,-498.5 133.5,-498.5\" stroke=\"#000000\"/>\n<text fill=\"#000000\" font-family=\"Times,serif\" font-size=\"14.00\" text-anchor=\"middle\" x=\"158\" y=\"-517.8\">dense</text>\n<polyline fill=\"none\" points=\"182.5,-498.5 182.5,-544.5 \" stroke=\"#000000\"/>\n<text fill=\"#000000\" font-family=\"Times,serif\" font-size=\"14.00\" text-anchor=\"middle\" x=\"208.5\" y=\"-517.8\">Dense</text>\n<polyline fill=\"none\" points=\"234.5,-498.5 234.5,-544.5 \" stroke=\"#000000\"/>\n<text fill=\"#000000\" font-family=\"Times,serif\" font-size=\"14.00\" text-anchor=\"middle\" x=\"263.5\" y=\"-529.3\">input:</text>\n<polyline fill=\"none\" points=\"234.5,-521.5 292.5,-521.5 \" stroke=\"#000000\"/>\n<text fill=\"#000000\" font-family=\"Times,serif\" font-size=\"14.00\" text-anchor=\"middle\" x=\"263.5\" y=\"-506.3\">output:</text>\n<polyline fill=\"none\" points=\"292.5,-498.5 292.5,-544.5 \" stroke=\"#000000\"/>\n<text fill=\"#000000\" font-family=\"Times,serif\" font-size=\"14.00\" text-anchor=\"middle\" x=\"336\" y=\"-529.3\">(None, 100)</text>\n<polyline fill=\"none\" points=\"292.5,-521.5 379.5,-521.5 \" stroke=\"#000000\"/>\n<text fill=\"#000000\" font-family=\"Times,serif\" font-size=\"14.00\" text-anchor=\"middle\" x=\"336\" y=\"-506.3\">(None, 40)</text>\n</g>\n<!-- 140238628409424&#45;&gt;140238446301712 -->\n<g class=\"edge\" id=\"edge3\">\n<title>140238628409424-&gt;140238446301712</title>\n<path d=\"M256.5,-581.3799C256.5,-573.1745 256.5,-563.7679 256.5,-554.8786\" fill=\"none\" stroke=\"#000000\"/>\n<polygon fill=\"#000000\" points=\"260.0001,-554.784 256.5,-544.784 253.0001,-554.784 260.0001,-554.784\" stroke=\"#000000\"/>\n</g>\n<!-- 140238199817424 -->\n<g class=\"node\" id=\"node5\">\n<title>140238199817424</title>\n<polygon fill=\"none\" points=\"124,-415.5 124,-461.5 389,-461.5 389,-415.5 124,-415.5\" stroke=\"#000000\"/>\n<text fill=\"#000000\" font-family=\"Times,serif\" font-size=\"14.00\" text-anchor=\"middle\" x=\"155\" y=\"-434.8\">dropout</text>\n<polyline fill=\"none\" points=\"186,-415.5 186,-461.5 \" stroke=\"#000000\"/>\n<text fill=\"#000000\" font-family=\"Times,serif\" font-size=\"14.00\" text-anchor=\"middle\" x=\"218.5\" y=\"-434.8\">Dropout</text>\n<polyline fill=\"none\" points=\"251,-415.5 251,-461.5 \" stroke=\"#000000\"/>\n<text fill=\"#000000\" font-family=\"Times,serif\" font-size=\"14.00\" text-anchor=\"middle\" x=\"280\" y=\"-446.3\">input:</text>\n<polyline fill=\"none\" points=\"251,-438.5 309,-438.5 \" stroke=\"#000000\"/>\n<text fill=\"#000000\" font-family=\"Times,serif\" font-size=\"14.00\" text-anchor=\"middle\" x=\"280\" y=\"-423.3\">output:</text>\n<polyline fill=\"none\" points=\"309,-415.5 309,-461.5 \" stroke=\"#000000\"/>\n<text fill=\"#000000\" font-family=\"Times,serif\" font-size=\"14.00\" text-anchor=\"middle\" x=\"349\" y=\"-446.3\">(None, 40)</text>\n<polyline fill=\"none\" points=\"309,-438.5 389,-438.5 \" stroke=\"#000000\"/>\n<text fill=\"#000000\" font-family=\"Times,serif\" font-size=\"14.00\" text-anchor=\"middle\" x=\"349\" y=\"-423.3\">(None, 40)</text>\n</g>\n<!-- 140238446301712&#45;&gt;140238199817424 -->\n<g class=\"edge\" id=\"edge4\">\n<title>140238446301712-&gt;140238199817424</title>\n<path d=\"M256.5,-498.3799C256.5,-490.1745 256.5,-480.7679 256.5,-471.8786\" fill=\"none\" stroke=\"#000000\"/>\n<polygon fill=\"#000000\" points=\"260.0001,-471.784 256.5,-461.784 253.0001,-471.784 260.0001,-471.784\" stroke=\"#000000\"/>\n</g>\n<!-- 140238199819728 -->\n<g class=\"node\" id=\"node6\">\n<title>140238199819728</title>\n<polygon fill=\"none\" points=\"129.5,-332.5 129.5,-378.5 383.5,-378.5 383.5,-332.5 129.5,-332.5\" stroke=\"#000000\"/>\n<text fill=\"#000000\" font-family=\"Times,serif\" font-size=\"14.00\" text-anchor=\"middle\" x=\"161.5\" y=\"-351.8\">dense_1</text>\n<polyline fill=\"none\" points=\"193.5,-332.5 193.5,-378.5 \" stroke=\"#000000\"/>\n<text fill=\"#000000\" font-family=\"Times,serif\" font-size=\"14.00\" text-anchor=\"middle\" x=\"219.5\" y=\"-351.8\">Dense</text>\n<polyline fill=\"none\" points=\"245.5,-332.5 245.5,-378.5 \" stroke=\"#000000\"/>\n<text fill=\"#000000\" font-family=\"Times,serif\" font-size=\"14.00\" text-anchor=\"middle\" x=\"274.5\" y=\"-363.3\">input:</text>\n<polyline fill=\"none\" points=\"245.5,-355.5 303.5,-355.5 \" stroke=\"#000000\"/>\n<text fill=\"#000000\" font-family=\"Times,serif\" font-size=\"14.00\" text-anchor=\"middle\" x=\"274.5\" y=\"-340.3\">output:</text>\n<polyline fill=\"none\" points=\"303.5,-332.5 303.5,-378.5 \" stroke=\"#000000\"/>\n<text fill=\"#000000\" font-family=\"Times,serif\" font-size=\"14.00\" text-anchor=\"middle\" x=\"343.5\" y=\"-363.3\">(None, 40)</text>\n<polyline fill=\"none\" points=\"303.5,-355.5 383.5,-355.5 \" stroke=\"#000000\"/>\n<text fill=\"#000000\" font-family=\"Times,serif\" font-size=\"14.00\" text-anchor=\"middle\" x=\"343.5\" y=\"-340.3\">(None, 10)</text>\n</g>\n<!-- 140238199817424&#45;&gt;140238199819728 -->\n<g class=\"edge\" id=\"edge5\">\n<title>140238199817424-&gt;140238199819728</title>\n<path d=\"M256.5,-415.3799C256.5,-407.1745 256.5,-397.7679 256.5,-388.8786\" fill=\"none\" stroke=\"#000000\"/>\n<polygon fill=\"#000000\" points=\"260.0001,-388.784 256.5,-378.784 253.0001,-388.784 260.0001,-388.784\" stroke=\"#000000\"/>\n</g>\n<!-- 140238446302928 -->\n<g class=\"node\" id=\"node7\">\n<title>140238446302928</title>\n<polygon fill=\"none\" points=\"116.5,-249.5 116.5,-295.5 396.5,-295.5 396.5,-249.5 116.5,-249.5\" stroke=\"#000000\"/>\n<text fill=\"#000000\" font-family=\"Times,serif\" font-size=\"14.00\" text-anchor=\"middle\" x=\"155\" y=\"-268.8\">dropout_1</text>\n<polyline fill=\"none\" points=\"193.5,-249.5 193.5,-295.5 \" stroke=\"#000000\"/>\n<text fill=\"#000000\" font-family=\"Times,serif\" font-size=\"14.00\" text-anchor=\"middle\" x=\"226\" y=\"-268.8\">Dropout</text>\n<polyline fill=\"none\" points=\"258.5,-249.5 258.5,-295.5 \" stroke=\"#000000\"/>\n<text fill=\"#000000\" font-family=\"Times,serif\" font-size=\"14.00\" text-anchor=\"middle\" x=\"287.5\" y=\"-280.3\">input:</text>\n<polyline fill=\"none\" points=\"258.5,-272.5 316.5,-272.5 \" stroke=\"#000000\"/>\n<text fill=\"#000000\" font-family=\"Times,serif\" font-size=\"14.00\" text-anchor=\"middle\" x=\"287.5\" y=\"-257.3\">output:</text>\n<polyline fill=\"none\" points=\"316.5,-249.5 316.5,-295.5 \" stroke=\"#000000\"/>\n<text fill=\"#000000\" font-family=\"Times,serif\" font-size=\"14.00\" text-anchor=\"middle\" x=\"356.5\" y=\"-280.3\">(None, 10)</text>\n<polyline fill=\"none\" points=\"316.5,-272.5 396.5,-272.5 \" stroke=\"#000000\"/>\n<text fill=\"#000000\" font-family=\"Times,serif\" font-size=\"14.00\" text-anchor=\"middle\" x=\"356.5\" y=\"-257.3\">(None, 10)</text>\n</g>\n<!-- 140238199819728&#45;&gt;140238446302928 -->\n<g class=\"edge\" id=\"edge6\">\n<title>140238199819728-&gt;140238446302928</title>\n<path d=\"M256.5,-332.3799C256.5,-324.1745 256.5,-314.7679 256.5,-305.8786\" fill=\"none\" stroke=\"#000000\"/>\n<polygon fill=\"#000000\" points=\"260.0001,-305.784 256.5,-295.784 253.0001,-305.784 260.0001,-305.784\" stroke=\"#000000\"/>\n</g>\n<!-- 140238199302096 -->\n<g class=\"node\" id=\"node8\">\n<title>140238199302096</title>\n<polygon fill=\"none\" points=\"129.5,-166.5 129.5,-212.5 383.5,-212.5 383.5,-166.5 129.5,-166.5\" stroke=\"#000000\"/>\n<text fill=\"#000000\" font-family=\"Times,serif\" font-size=\"14.00\" text-anchor=\"middle\" x=\"161.5\" y=\"-185.8\">dense_2</text>\n<polyline fill=\"none\" points=\"193.5,-166.5 193.5,-212.5 \" stroke=\"#000000\"/>\n<text fill=\"#000000\" font-family=\"Times,serif\" font-size=\"14.00\" text-anchor=\"middle\" x=\"219.5\" y=\"-185.8\">Dense</text>\n<polyline fill=\"none\" points=\"245.5,-166.5 245.5,-212.5 \" stroke=\"#000000\"/>\n<text fill=\"#000000\" font-family=\"Times,serif\" font-size=\"14.00\" text-anchor=\"middle\" x=\"274.5\" y=\"-197.3\">input:</text>\n<polyline fill=\"none\" points=\"245.5,-189.5 303.5,-189.5 \" stroke=\"#000000\"/>\n<text fill=\"#000000\" font-family=\"Times,serif\" font-size=\"14.00\" text-anchor=\"middle\" x=\"274.5\" y=\"-174.3\">output:</text>\n<polyline fill=\"none\" points=\"303.5,-166.5 303.5,-212.5 \" stroke=\"#000000\"/>\n<text fill=\"#000000\" font-family=\"Times,serif\" font-size=\"14.00\" text-anchor=\"middle\" x=\"343.5\" y=\"-197.3\">(None, 10)</text>\n<polyline fill=\"none\" points=\"303.5,-189.5 383.5,-189.5 \" stroke=\"#000000\"/>\n<text fill=\"#000000\" font-family=\"Times,serif\" font-size=\"14.00\" text-anchor=\"middle\" x=\"343.5\" y=\"-174.3\">(None, 10)</text>\n</g>\n<!-- 140238446302928&#45;&gt;140238199302096 -->\n<g class=\"edge\" id=\"edge7\">\n<title>140238446302928-&gt;140238199302096</title>\n<path d=\"M256.5,-249.3799C256.5,-241.1745 256.5,-231.7679 256.5,-222.8786\" fill=\"none\" stroke=\"#000000\"/>\n<polygon fill=\"#000000\" points=\"260.0001,-222.784 256.5,-212.784 253.0001,-222.784 260.0001,-222.784\" stroke=\"#000000\"/>\n</g>\n<!-- 140238199335824 -->\n<g class=\"node\" id=\"node9\">\n<title>140238199335824</title>\n<polygon fill=\"none\" points=\"129.5,-83.5 129.5,-129.5 383.5,-129.5 383.5,-83.5 129.5,-83.5\" stroke=\"#000000\"/>\n<text fill=\"#000000\" font-family=\"Times,serif\" font-size=\"14.00\" text-anchor=\"middle\" x=\"161.5\" y=\"-102.8\">dense_3</text>\n<polyline fill=\"none\" points=\"193.5,-83.5 193.5,-129.5 \" stroke=\"#000000\"/>\n<text fill=\"#000000\" font-family=\"Times,serif\" font-size=\"14.00\" text-anchor=\"middle\" x=\"219.5\" y=\"-102.8\">Dense</text>\n<polyline fill=\"none\" points=\"245.5,-83.5 245.5,-129.5 \" stroke=\"#000000\"/>\n<text fill=\"#000000\" font-family=\"Times,serif\" font-size=\"14.00\" text-anchor=\"middle\" x=\"274.5\" y=\"-114.3\">input:</text>\n<polyline fill=\"none\" points=\"245.5,-106.5 303.5,-106.5 \" stroke=\"#000000\"/>\n<text fill=\"#000000\" font-family=\"Times,serif\" font-size=\"14.00\" text-anchor=\"middle\" x=\"274.5\" y=\"-91.3\">output:</text>\n<polyline fill=\"none\" points=\"303.5,-83.5 303.5,-129.5 \" stroke=\"#000000\"/>\n<text fill=\"#000000\" font-family=\"Times,serif\" font-size=\"14.00\" text-anchor=\"middle\" x=\"343.5\" y=\"-114.3\">(None, 10)</text>\n<polyline fill=\"none\" points=\"303.5,-106.5 383.5,-106.5 \" stroke=\"#000000\"/>\n<text fill=\"#000000\" font-family=\"Times,serif\" font-size=\"14.00\" text-anchor=\"middle\" x=\"343.5\" y=\"-91.3\">(None, 5)</text>\n</g>\n<!-- 140238199302096&#45;&gt;140238199335824 -->\n<g class=\"edge\" id=\"edge8\">\n<title>140238199302096-&gt;140238199335824</title>\n<path d=\"M256.5,-166.3799C256.5,-158.1745 256.5,-148.7679 256.5,-139.8786\" fill=\"none\" stroke=\"#000000\"/>\n<polygon fill=\"#000000\" points=\"260.0001,-139.784 256.5,-129.784 253.0001,-139.784 260.0001,-139.784\" stroke=\"#000000\"/>\n</g>\n<!-- 140238199408912 -->\n<g class=\"node\" id=\"node10\">\n<title>140238199408912</title>\n<polygon fill=\"none\" points=\"133.5,-.5 133.5,-46.5 379.5,-46.5 379.5,-.5 133.5,-.5\" stroke=\"#000000\"/>\n<text fill=\"#000000\" font-family=\"Times,serif\" font-size=\"14.00\" text-anchor=\"middle\" x=\"165.5\" y=\"-19.8\">dense_4</text>\n<polyline fill=\"none\" points=\"197.5,-.5 197.5,-46.5 \" stroke=\"#000000\"/>\n<text fill=\"#000000\" font-family=\"Times,serif\" font-size=\"14.00\" text-anchor=\"middle\" x=\"223.5\" y=\"-19.8\">Dense</text>\n<polyline fill=\"none\" points=\"249.5,-.5 249.5,-46.5 \" stroke=\"#000000\"/>\n<text fill=\"#000000\" font-family=\"Times,serif\" font-size=\"14.00\" text-anchor=\"middle\" x=\"278.5\" y=\"-31.3\">input:</text>\n<polyline fill=\"none\" points=\"249.5,-23.5 307.5,-23.5 \" stroke=\"#000000\"/>\n<text fill=\"#000000\" font-family=\"Times,serif\" font-size=\"14.00\" text-anchor=\"middle\" x=\"278.5\" y=\"-8.3\">output:</text>\n<polyline fill=\"none\" points=\"307.5,-.5 307.5,-46.5 \" stroke=\"#000000\"/>\n<text fill=\"#000000\" font-family=\"Times,serif\" font-size=\"14.00\" text-anchor=\"middle\" x=\"343.5\" y=\"-31.3\">(None, 5)</text>\n<polyline fill=\"none\" points=\"307.5,-23.5 379.5,-23.5 \" stroke=\"#000000\"/>\n<text fill=\"#000000\" font-family=\"Times,serif\" font-size=\"14.00\" text-anchor=\"middle\" x=\"343.5\" y=\"-8.3\">(None, 1)</text>\n</g>\n<!-- 140238199335824&#45;&gt;140238199408912 -->\n<g class=\"edge\" id=\"edge9\">\n<title>140238199335824-&gt;140238199408912</title>\n<path d=\"M256.5,-83.3799C256.5,-75.1745 256.5,-65.7679 256.5,-56.8786\" fill=\"none\" stroke=\"#000000\"/>\n<polygon fill=\"#000000\" points=\"260.0001,-56.784 256.5,-46.784 253.0001,-56.784 260.0001,-56.784\" stroke=\"#000000\"/>\n</g>\n</g>\n</svg>"
          },
          "metadata": {},
          "execution_count": 24
        }
      ]
    },
    {
      "cell_type": "markdown",
      "source": [
        "###2. CNN model"
      ],
      "metadata": {
        "id": "LtEfqdg-2dg1"
      }
    },
    {
      "cell_type": "code",
      "source": [
        "#Defining the model\n",
        "model = Sequential() \n",
        "\n",
        "#Hidden layers\n",
        "model.add(Embedding(vocab_size, 100, weights=[embedding_matrix],input_length=maxlen))\n",
        "model.add(Conv1D(100, 5, activation='relu'))\n",
        "model.add(GlobalMaxPooling1D())\n",
        "model.add(Dense(10, activation='relu'))\n",
        "model.add(Dropout(0.5))\n",
        "model.add(Dense(10, activation='relu'))\n",
        "\n",
        "#Output layer\n",
        "model.add(Dense(1, activation='sigmoid'))\n",
        "\n",
        "#compiling the model\n",
        "model.compile(optimizer='adam', loss='binary_crossentropy', metrics=['acc'])\n",
        "\n",
        "callbacks = [EarlyStopping(monitor=\"val_loss\", patience=1),ModelCheckpoint(filepath=\"best_model.h5\", monitor=\"val_loss\", save_best_only=True)]\n",
        "model.summary()"
      ],
      "metadata": {
        "colab": {
          "base_uri": "https://localhost:8080/"
        },
        "id": "PMFro5hf2cQk",
        "outputId": "14d5bf7d-e575-4eb8-bed8-9b49248b829a"
      },
      "execution_count": null,
      "outputs": [
        {
          "output_type": "stream",
          "name": "stdout",
          "text": [
            "Model: \"sequential_23\"\n",
            "_________________________________________________________________\n",
            " Layer (type)                Output Shape              Param #   \n",
            "=================================================================\n",
            " embedding_23 (Embedding)    (None, 100, 100)          10633400  \n",
            "                                                                 \n",
            " conv1d_11 (Conv1D)          (None, 96, 100)           50100     \n",
            "                                                                 \n",
            " global_max_pooling1d_11 (Gl  (None, 100)              0         \n",
            " obalMaxPooling1D)                                               \n",
            "                                                                 \n",
            " dense_88 (Dense)            (None, 10)                1010      \n",
            "                                                                 \n",
            " dropout_33 (Dropout)        (None, 10)                0         \n",
            "                                                                 \n",
            " dense_89 (Dense)            (None, 10)                110       \n",
            "                                                                 \n",
            " dense_90 (Dense)            (None, 1)                 11        \n",
            "                                                                 \n",
            "=================================================================\n",
            "Total params: 10,684,631\n",
            "Trainable params: 10,684,631\n",
            "Non-trainable params: 0\n",
            "_________________________________________________________________\n"
          ]
        }
      ]
    },
    {
      "cell_type": "code",
      "source": [
        "model.fit(X_train, y_train, batch_size=2000, epochs=20, verbose=1, validation_split=0.2, callbacks=callbacks)"
      ],
      "metadata": {
        "colab": {
          "base_uri": "https://localhost:8080/"
        },
        "id": "Ks7pEzyv3Yji",
        "outputId": "063fdeb3-3925-4f11-9c59-e2ad4f31e1fd"
      },
      "execution_count": null,
      "outputs": [
        {
          "output_type": "stream",
          "name": "stdout",
          "text": [
            "Epoch 1/20\n",
            "52/52 [==============================] - 7s 128ms/step - loss: 0.6469 - acc: 0.6179 - val_loss: 0.5688 - val_acc: 0.7164\n",
            "Epoch 2/20\n",
            "52/52 [==============================] - 6s 125ms/step - loss: 0.5657 - acc: 0.7157 - val_loss: 0.5160 - val_acc: 0.7541\n",
            "Epoch 3/20\n",
            "52/52 [==============================] - 7s 128ms/step - loss: 0.5161 - acc: 0.7527 - val_loss: 0.4901 - val_acc: 0.7709\n",
            "Epoch 4/20\n",
            "52/52 [==============================] - 6s 125ms/step - loss: 0.4847 - acc: 0.7719 - val_loss: 0.4796 - val_acc: 0.7748\n",
            "Epoch 5/20\n",
            "52/52 [==============================] - 6s 124ms/step - loss: 0.4607 - acc: 0.7882 - val_loss: 0.4746 - val_acc: 0.7803\n",
            "Epoch 6/20\n",
            "52/52 [==============================] - 7s 125ms/step - loss: 0.4391 - acc: 0.8019 - val_loss: 0.4654 - val_acc: 0.7829\n",
            "Epoch 7/20\n",
            "52/52 [==============================] - 7s 130ms/step - loss: 0.4202 - acc: 0.8128 - val_loss: 0.4635 - val_acc: 0.7821\n",
            "Epoch 8/20\n",
            "52/52 [==============================] - 6s 124ms/step - loss: 0.3934 - acc: 0.8287 - val_loss: 0.4620 - val_acc: 0.7819\n",
            "Epoch 9/20\n",
            "52/52 [==============================] - 6s 118ms/step - loss: 0.3670 - acc: 0.8438 - val_loss: 0.4675 - val_acc: 0.7821\n"
          ]
        },
        {
          "output_type": "execute_result",
          "data": {
            "text/plain": [
              "<keras.callbacks.History at 0x7f8b515cebd0>"
            ]
          },
          "metadata": {},
          "execution_count": 156
        }
      ]
    },
    {
      "cell_type": "code",
      "source": [
        "#Plotting loss and accuracy of training and validation sets\n",
        "df = pd.DataFrame(model.history.history)\n",
        "# plotting loss\n",
        "plt.plot(df['loss'])\n",
        "plt.plot(df['val_loss'])\n",
        "plt.legend(['training loss','validation loss'])\n",
        "plt.show()\n",
        "\n",
        "#plotting accuracy\n",
        "plt.plot(df['acc'],color = 'green')\n",
        "plt.plot(df['val_acc'], color='blue')\n",
        "plt.legend(['training accuracy','validation accuracy'])\n",
        "plt.show()"
      ],
      "metadata": {
        "colab": {
          "base_uri": "https://localhost:8080/",
          "height": 513
        },
        "id": "enCIcucb3dQ5",
        "outputId": "f588d394-b5a3-4083-e8b1-11ad78fedff4"
      },
      "execution_count": null,
      "outputs": [
        {
          "output_type": "display_data",
          "data": {
            "image/png": "[encoded data removed]",
            "text/plain": [
              "<Figure size 432x288 with 1 Axes>"
            ]
          },
          "metadata": {
            "needs_background": "light"
          }
        },
        {
          "output_type": "display_data",
          "data": {
            "image/png": "[encoded data removed]",
            "text/plain": [
              "<Figure size 432x288 with 1 Axes>"
            ]
          },
          "metadata": {
            "needs_background": "light"
          }
        }
      ]
    },
    {
      "cell_type": "code",
      "source": [
        "# Evaluating model's loss, accuracy on Training and Testing data\n",
        "train  = model.evaluate(X_train, y_train,verbose=0)\n",
        "print('Model loss on training data is : ',round(train[0],2))\n",
        "print('Model accuracy on training data is : ',round(train[1]*100,2),'%')\n",
        "print()\n",
        "test  = model.evaluate(X_test, y_test,verbose=0)\n",
        "print('Model loss on testing data is : ',round(test[0],2))\n",
        "print('Model accuracy on testing data is : ',round(test[1]*100,2),'%')"
      ],
      "metadata": {
        "colab": {
          "base_uri": "https://localhost:8080/"
        },
        "id": "G529BfcN5fAp",
        "outputId": "45c6acfc-9aca-4f88-e441-db54e46808a9"
      },
      "execution_count": null,
      "outputs": [
        {
          "output_type": "stream",
          "name": "stdout",
          "text": [
            "Model loss on training data is :  0.35\n",
            "Model accuracy on training data is :  86.03 %\n",
            "\n",
            "Model loss on testing data is :  0.47\n",
            "Model accuracy on testing data is :  77.89 %\n"
          ]
        }
      ]
    },
    {
      "cell_type": "markdown",
      "source": [
        "#### Performance evaluation"
      ],
      "metadata": {
        "id": "xecBxkid3s09"
      }
    },
    {
      "cell_type": "code",
      "source": [
        "# Classification report for precision,reaccl,f1-score of each class, and accuracy of over all model\n",
        "\n",
        "y_pred = (model.predict(X_test)).round().astype(\"int32\")\n",
        "print(classification_report(y_test, y_pred))\n",
        "\n",
        "#confusion matrix\n",
        "print('Confusion matrix : ')\n",
        "print(confusion_matrix(y_test, y_pred))"
      ],
      "metadata": {
        "colab": {
          "base_uri": "https://localhost:8080/"
        },
        "id": "8G5AUTQZ3hCC",
        "outputId": "0ce7933d-e86e-42b1-8d99-575a9cf059d4"
      },
      "execution_count": null,
      "outputs": [
        {
          "output_type": "stream",
          "name": "stdout",
          "text": [
            "              precision    recall  f1-score   support\n",
            "\n",
            "           0       0.81      0.73      0.77     15869\n",
            "           1       0.76      0.83      0.79     16131\n",
            "\n",
            "    accuracy                           0.78     32000\n",
            "   macro avg       0.78      0.78      0.78     32000\n",
            "weighted avg       0.78      0.78      0.78     32000\n",
            "\n",
            "Confusion matrix : \n",
            "[[11600  4269]\n",
            " [ 2788 13343]]\n"
          ]
        }
      ]
    },
    {
      "cell_type": "code",
      "source": [
        "# AUC Score of the model\n",
        "auc_score = roc_auc_score(y_test, model.predict(X_test))\n",
        "print('AUC score of the model is :',round(auc_score,3))\n",
        "\n",
        "# roc curve for models\n",
        "fpr, tpr, _ = roc_curve(y_test, model.predict(X_test))\n",
        "\n",
        "# roc curve for tpr = fpr \n",
        "random_probs = [0 for i in range(len(y_test))]\n",
        "p_fpr, p_tpr, _ = roc_curve(y_test, random_probs, pos_label=1)"
      ],
      "metadata": {
        "id": "NQF755Jr3oHt",
        "colab": {
          "base_uri": "https://localhost:8080/"
        },
        "outputId": "986d5a87-df2c-4b0e-a985-5ac679f352c4"
      },
      "execution_count": null,
      "outputs": [
        {
          "output_type": "stream",
          "name": "stdout",
          "text": [
            "AUC score of the model is : 0.865\n"
          ]
        }
      ]
    },
    {
      "cell_type": "code",
      "source": [
        "# Plotting ROC Curve\n",
        "plt.plot(fpr, tpr,color='blue',linestyle=':')\n",
        "plt.plot(p_fpr, p_tpr, linestyle='--', color='orange')\n",
        "plt.title('ROC curve')\n",
        "# x label\n",
        "plt.xlabel('False Positive Rate')\n",
        "# y label\n",
        "plt.ylabel('True Positive rate')\n",
        "plt.legend(['Neural Network model'],loc='best')\n",
        "plt.show()"
      ],
      "metadata": {
        "id": "bVPjQ6z73m7o",
        "colab": {
          "base_uri": "https://localhost:8080/",
          "height": 295
        },
        "outputId": "6dafad38-6023-4b9c-b91a-bc3cb7fe7068"
      },
      "execution_count": null,
      "outputs": [
        {
          "output_type": "display_data",
          "data": {
            "image/png": "[encoded data removed]",
            "text/plain": [
              "<Figure size 432x288 with 1 Axes>"
            ]
          },
          "metadata": {
            "needs_background": "light"
          }
        }
      ]
    },
    {
      "cell_type": "code",
      "source": [
        "# Visualize network architecture\n",
        "SVG(model_to_dot(model, show_shapes=True,show_layer_names=True, dpi=65).create(prog=\"dot\", format=\"svg\"))"
      ],
      "metadata": {
        "colab": {
          "base_uri": "https://localhost:8080/",
          "height": 787
        },
        "id": "OFS2k8OBE9yt",
        "outputId": "43e16d1a-709b-4352-a160-dfd32a467bb2"
      },
      "execution_count": null,
      "outputs": [
        {
          "output_type": "execute_result",
          "data": {
            "text/plain": [
              "<IPython.core.display.SVG object>"
            ],
            "image/svg+xml": "<svg height=\"574pt\" viewBox=\"0.00 0.00 474.00 636.00\" width=\"428pt\" xmlns=\"http://www.w3.org/2000/svg\" xmlns:xlink=\"http://www.w3.org/1999/xlink\">\n<g class=\"graph\" id=\"graph0\" transform=\"scale(.9028 .9028) rotate(0) translate(4 632)\">\n<title>G</title>\n<polygon fill=\"#ffffff\" points=\"-4,4 -4,-632 470,-632 470,4 -4,4\" stroke=\"transparent\"/>\n<!-- 140236440670800 -->\n<g class=\"node\" id=\"node1\">\n<title>140236440670800</title>\n<polygon fill=\"none\" points=\"49,-581.5 49,-627.5 417,-627.5 417,-581.5 49,-581.5\" stroke=\"#000000\"/>\n<text fill=\"#000000\" font-family=\"Times,serif\" font-size=\"14.00\" text-anchor=\"middle\" x=\"116\" y=\"-600.8\">embedding_1_input</text>\n<polyline fill=\"none\" points=\"183,-581.5 183,-627.5 \" stroke=\"#000000\"/>\n<text fill=\"#000000\" font-family=\"Times,serif\" font-size=\"14.00\" text-anchor=\"middle\" x=\"223\" y=\"-600.8\">InputLayer</text>\n<polyline fill=\"none\" points=\"263,-581.5 263,-627.5 \" stroke=\"#000000\"/>\n<text fill=\"#000000\" font-family=\"Times,serif\" font-size=\"14.00\" text-anchor=\"middle\" x=\"292\" y=\"-612.3\">input:</text>\n<polyline fill=\"none\" points=\"263,-604.5 321,-604.5 \" stroke=\"#000000\"/>\n<text fill=\"#000000\" font-family=\"Times,serif\" font-size=\"14.00\" text-anchor=\"middle\" x=\"292\" y=\"-589.3\">output:</text>\n<polyline fill=\"none\" points=\"321,-581.5 321,-627.5 \" stroke=\"#000000\"/>\n<text fill=\"#000000\" font-family=\"Times,serif\" font-size=\"14.00\" text-anchor=\"middle\" x=\"369\" y=\"-612.3\">[(None, 100)]</text>\n<polyline fill=\"none\" points=\"321,-604.5 417,-604.5 \" stroke=\"#000000\"/>\n<text fill=\"#000000\" font-family=\"Times,serif\" font-size=\"14.00\" text-anchor=\"middle\" x=\"369\" y=\"-589.3\">[(None, 100)]</text>\n</g>\n<!-- 140236441133392 -->\n<g class=\"node\" id=\"node2\">\n<title>140236441133392</title>\n<polygon fill=\"none\" points=\"55.5,-498.5 55.5,-544.5 410.5,-544.5 410.5,-498.5 55.5,-498.5\" stroke=\"#000000\"/>\n<text fill=\"#000000\" font-family=\"Times,serif\" font-size=\"14.00\" text-anchor=\"middle\" x=\"103.5\" y=\"-517.8\">embedding_1</text>\n<polyline fill=\"none\" points=\"151.5,-498.5 151.5,-544.5 \" stroke=\"#000000\"/>\n<text fill=\"#000000\" font-family=\"Times,serif\" font-size=\"14.00\" text-anchor=\"middle\" x=\"193.5\" y=\"-517.8\">Embedding</text>\n<polyline fill=\"none\" points=\"235.5,-498.5 235.5,-544.5 \" stroke=\"#000000\"/>\n<text fill=\"#000000\" font-family=\"Times,serif\" font-size=\"14.00\" text-anchor=\"middle\" x=\"264.5\" y=\"-529.3\">input:</text>\n<polyline fill=\"none\" points=\"235.5,-521.5 293.5,-521.5 \" stroke=\"#000000\"/>\n<text fill=\"#000000\" font-family=\"Times,serif\" font-size=\"14.00\" text-anchor=\"middle\" x=\"264.5\" y=\"-506.3\">output:</text>\n<polyline fill=\"none\" points=\"293.5,-498.5 293.5,-544.5 \" stroke=\"#000000\"/>\n<text fill=\"#000000\" font-family=\"Times,serif\" font-size=\"14.00\" text-anchor=\"middle\" x=\"352\" y=\"-529.3\">(None, 100)</text>\n<polyline fill=\"none\" points=\"293.5,-521.5 410.5,-521.5 \" stroke=\"#000000\"/>\n<text fill=\"#000000\" font-family=\"Times,serif\" font-size=\"14.00\" text-anchor=\"middle\" x=\"352\" y=\"-506.3\">(None, 100, 100)</text>\n</g>\n<!-- 140236440670800&#45;&gt;140236441133392 -->\n<g class=\"edge\" id=\"edge1\">\n<title>140236440670800-&gt;140236441133392</title>\n<path d=\"M233,-581.3799C233,-573.1745 233,-563.7679 233,-554.8786\" fill=\"none\" stroke=\"#000000\"/>\n<polygon fill=\"#000000\" points=\"236.5001,-554.784 233,-544.784 229.5001,-554.784 236.5001,-554.784\" stroke=\"#000000\"/>\n</g>\n<!-- 140236440934672 -->\n<g class=\"node\" id=\"node3\">\n<title>140236440934672</title>\n<polygon fill=\"none\" points=\"82,-415.5 82,-461.5 384,-461.5 384,-415.5 82,-415.5\" stroke=\"#000000\"/>\n<text fill=\"#000000\" font-family=\"Times,serif\" font-size=\"14.00\" text-anchor=\"middle\" x=\"112\" y=\"-434.8\">conv1d</text>\n<polyline fill=\"none\" points=\"142,-415.5 142,-461.5 \" stroke=\"#000000\"/>\n<text fill=\"#000000\" font-family=\"Times,serif\" font-size=\"14.00\" text-anchor=\"middle\" x=\"175.5\" y=\"-434.8\">Conv1D</text>\n<polyline fill=\"none\" points=\"209,-415.5 209,-461.5 \" stroke=\"#000000\"/>\n<text fill=\"#000000\" font-family=\"Times,serif\" font-size=\"14.00\" text-anchor=\"middle\" x=\"238\" y=\"-446.3\">input:</text>\n<polyline fill=\"none\" points=\"209,-438.5 267,-438.5 \" stroke=\"#000000\"/>\n<text fill=\"#000000\" font-family=\"Times,serif\" font-size=\"14.00\" text-anchor=\"middle\" x=\"238\" y=\"-423.3\">output:</text>\n<polyline fill=\"none\" points=\"267,-415.5 267,-461.5 \" stroke=\"#000000\"/>\n<text fill=\"#000000\" font-family=\"Times,serif\" font-size=\"14.00\" text-anchor=\"middle\" x=\"325.5\" y=\"-446.3\">(None, 100, 100)</text>\n<polyline fill=\"none\" points=\"267,-438.5 384,-438.5 \" stroke=\"#000000\"/>\n<text fill=\"#000000\" font-family=\"Times,serif\" font-size=\"14.00\" text-anchor=\"middle\" x=\"325.5\" y=\"-423.3\">(None, 96, 100)</text>\n</g>\n<!-- 140236441133392&#45;&gt;140236440934672 -->\n<g class=\"edge\" id=\"edge2\">\n<title>140236441133392-&gt;140236440934672</title>\n<path d=\"M233,-498.3799C233,-490.1745 233,-480.7679 233,-471.8786\" fill=\"none\" stroke=\"#000000\"/>\n<polygon fill=\"#000000\" points=\"236.5001,-471.784 233,-461.784 229.5001,-471.784 236.5001,-471.784\" stroke=\"#000000\"/>\n</g>\n<!-- 140236440829712 -->\n<g class=\"node\" id=\"node4\">\n<title>140236440829712</title>\n<polygon fill=\"none\" points=\"0,-332.5 0,-378.5 466,-378.5 466,-332.5 0,-332.5\" stroke=\"#000000\"/>\n<text fill=\"#000000\" font-family=\"Times,serif\" font-size=\"14.00\" text-anchor=\"middle\" x=\"76\" y=\"-351.8\">global_max_pooling1d</text>\n<polyline fill=\"none\" points=\"152,-332.5 152,-378.5 \" stroke=\"#000000\"/>\n<text fill=\"#000000\" font-family=\"Times,serif\" font-size=\"14.00\" text-anchor=\"middle\" x=\"225\" y=\"-351.8\">GlobalMaxPooling1D</text>\n<polyline fill=\"none\" points=\"298,-332.5 298,-378.5 \" stroke=\"#000000\"/>\n<text fill=\"#000000\" font-family=\"Times,serif\" font-size=\"14.00\" text-anchor=\"middle\" x=\"327\" y=\"-363.3\">input:</text>\n<polyline fill=\"none\" points=\"298,-355.5 356,-355.5 \" stroke=\"#000000\"/>\n<text fill=\"#000000\" font-family=\"Times,serif\" font-size=\"14.00\" text-anchor=\"middle\" x=\"327\" y=\"-340.3\">output:</text>\n<polyline fill=\"none\" points=\"356,-332.5 356,-378.5 \" stroke=\"#000000\"/>\n<text fill=\"#000000\" font-family=\"Times,serif\" font-size=\"14.00\" text-anchor=\"middle\" x=\"411\" y=\"-363.3\">(None, 96, 100)</text>\n<polyline fill=\"none\" points=\"356,-355.5 466,-355.5 \" stroke=\"#000000\"/>\n<text fill=\"#000000\" font-family=\"Times,serif\" font-size=\"14.00\" text-anchor=\"middle\" x=\"411\" y=\"-340.3\">(None, 100)</text>\n</g>\n<!-- 140236440934672&#45;&gt;140236440829712 -->\n<g class=\"edge\" id=\"edge3\">\n<title>140236440934672-&gt;140236440829712</title>\n<path d=\"M233,-415.3799C233,-407.1745 233,-397.7679 233,-388.8786\" fill=\"none\" stroke=\"#000000\"/>\n<polygon fill=\"#000000\" points=\"236.5001,-388.784 233,-378.784 229.5001,-388.784 236.5001,-388.784\" stroke=\"#000000\"/>\n</g>\n<!-- 140236435248144 -->\n<g class=\"node\" id=\"node5\">\n<title>140236435248144</title>\n<polygon fill=\"none\" points=\"102.5,-249.5 102.5,-295.5 363.5,-295.5 363.5,-249.5 102.5,-249.5\" stroke=\"#000000\"/>\n<text fill=\"#000000\" font-family=\"Times,serif\" font-size=\"14.00\" text-anchor=\"middle\" x=\"134.5\" y=\"-268.8\">dense_5</text>\n<polyline fill=\"none\" points=\"166.5,-249.5 166.5,-295.5 \" stroke=\"#000000\"/>\n<text fill=\"#000000\" font-family=\"Times,serif\" font-size=\"14.00\" text-anchor=\"middle\" x=\"192.5\" y=\"-268.8\">Dense</text>\n<polyline fill=\"none\" points=\"218.5,-249.5 218.5,-295.5 \" stroke=\"#000000\"/>\n<text fill=\"#000000\" font-family=\"Times,serif\" font-size=\"14.00\" text-anchor=\"middle\" x=\"247.5\" y=\"-280.3\">input:</text>\n<polyline fill=\"none\" points=\"218.5,-272.5 276.5,-272.5 \" stroke=\"#000000\"/>\n<text fill=\"#000000\" font-family=\"Times,serif\" font-size=\"14.00\" text-anchor=\"middle\" x=\"247.5\" y=\"-257.3\">output:</text>\n<polyline fill=\"none\" points=\"276.5,-249.5 276.5,-295.5 \" stroke=\"#000000\"/>\n<text fill=\"#000000\" font-family=\"Times,serif\" font-size=\"14.00\" text-anchor=\"middle\" x=\"320\" y=\"-280.3\">(None, 100)</text>\n<polyline fill=\"none\" points=\"276.5,-272.5 363.5,-272.5 \" stroke=\"#000000\"/>\n<text fill=\"#000000\" font-family=\"Times,serif\" font-size=\"14.00\" text-anchor=\"middle\" x=\"320\" y=\"-257.3\">(None, 10)</text>\n</g>\n<!-- 140236440829712&#45;&gt;140236435248144 -->\n<g class=\"edge\" id=\"edge4\">\n<title>140236440829712-&gt;140236435248144</title>\n<path d=\"M233,-332.3799C233,-324.1745 233,-314.7679 233,-305.8786\" fill=\"none\" stroke=\"#000000\"/>\n<polygon fill=\"#000000\" points=\"236.5001,-305.784 233,-295.784 229.5001,-305.784 236.5001,-305.784\" stroke=\"#000000\"/>\n</g>\n<!-- 140236439938384 -->\n<g class=\"node\" id=\"node6\">\n<title>140236439938384</title>\n<polygon fill=\"none\" points=\"93,-166.5 93,-212.5 373,-212.5 373,-166.5 93,-166.5\" stroke=\"#000000\"/>\n<text fill=\"#000000\" font-family=\"Times,serif\" font-size=\"14.00\" text-anchor=\"middle\" x=\"131.5\" y=\"-185.8\">dropout_2</text>\n<polyline fill=\"none\" points=\"170,-166.5 170,-212.5 \" stroke=\"#000000\"/>\n<text fill=\"#000000\" font-family=\"Times,serif\" font-size=\"14.00\" text-anchor=\"middle\" x=\"202.5\" y=\"-185.8\">Dropout</text>\n<polyline fill=\"none\" points=\"235,-166.5 235,-212.5 \" stroke=\"#000000\"/>\n<text fill=\"#000000\" font-family=\"Times,serif\" font-size=\"14.00\" text-anchor=\"middle\" x=\"264\" y=\"-197.3\">input:</text>\n<polyline fill=\"none\" points=\"235,-189.5 293,-189.5 \" stroke=\"#000000\"/>\n<text fill=\"#000000\" font-family=\"Times,serif\" font-size=\"14.00\" text-anchor=\"middle\" x=\"264\" y=\"-174.3\">output:</text>\n<polyline fill=\"none\" points=\"293,-166.5 293,-212.5 \" stroke=\"#000000\"/>\n<text fill=\"#000000\" font-family=\"Times,serif\" font-size=\"14.00\" text-anchor=\"middle\" x=\"333\" y=\"-197.3\">(None, 10)</text>\n<polyline fill=\"none\" points=\"293,-189.5 373,-189.5 \" stroke=\"#000000\"/>\n<text fill=\"#000000\" font-family=\"Times,serif\" font-size=\"14.00\" text-anchor=\"middle\" x=\"333\" y=\"-174.3\">(None, 10)</text>\n</g>\n<!-- 140236435248144&#45;&gt;140236439938384 -->\n<g class=\"edge\" id=\"edge5\">\n<title>140236435248144-&gt;140236439938384</title>\n<path d=\"M233,-249.3799C233,-241.1745 233,-231.7679 233,-222.8786\" fill=\"none\" stroke=\"#000000\"/>\n<polygon fill=\"#000000\" points=\"236.5001,-222.784 233,-212.784 229.5001,-222.784 236.5001,-222.784\" stroke=\"#000000\"/>\n</g>\n<!-- 140236440736400 -->\n<g class=\"node\" id=\"node7\">\n<title>140236440736400</title>\n<polygon fill=\"none\" points=\"106,-83.5 106,-129.5 360,-129.5 360,-83.5 106,-83.5\" stroke=\"#000000\"/>\n<text fill=\"#000000\" font-family=\"Times,serif\" font-size=\"14.00\" text-anchor=\"middle\" x=\"138\" y=\"-102.8\">dense_6</text>\n<polyline fill=\"none\" points=\"170,-83.5 170,-129.5 \" stroke=\"#000000\"/>\n<text fill=\"#000000\" font-family=\"Times,serif\" font-size=\"14.00\" text-anchor=\"middle\" x=\"196\" y=\"-102.8\">Dense</text>\n<polyline fill=\"none\" points=\"222,-83.5 222,-129.5 \" stroke=\"#000000\"/>\n<text fill=\"#000000\" font-family=\"Times,serif\" font-size=\"14.00\" text-anchor=\"middle\" x=\"251\" y=\"-114.3\">input:</text>\n<polyline fill=\"none\" points=\"222,-106.5 280,-106.5 \" stroke=\"#000000\"/>\n<text fill=\"#000000\" font-family=\"Times,serif\" font-size=\"14.00\" text-anchor=\"middle\" x=\"251\" y=\"-91.3\">output:</text>\n<polyline fill=\"none\" points=\"280,-83.5 280,-129.5 \" stroke=\"#000000\"/>\n<text fill=\"#000000\" font-family=\"Times,serif\" font-size=\"14.00\" text-anchor=\"middle\" x=\"320\" y=\"-114.3\">(None, 10)</text>\n<polyline fill=\"none\" points=\"280,-106.5 360,-106.5 \" stroke=\"#000000\"/>\n<text fill=\"#000000\" font-family=\"Times,serif\" font-size=\"14.00\" text-anchor=\"middle\" x=\"320\" y=\"-91.3\">(None, 10)</text>\n</g>\n<!-- 140236439938384&#45;&gt;140236440736400 -->\n<g class=\"edge\" id=\"edge6\">\n<title>140236439938384-&gt;140236440736400</title>\n<path d=\"M233,-166.3799C233,-158.1745 233,-148.7679 233,-139.8786\" fill=\"none\" stroke=\"#000000\"/>\n<polygon fill=\"#000000\" points=\"236.5001,-139.784 233,-129.784 229.5001,-139.784 236.5001,-139.784\" stroke=\"#000000\"/>\n</g>\n<!-- 140236434455568 -->\n<g class=\"node\" id=\"node8\">\n<title>140236434455568</title>\n<polygon fill=\"none\" points=\"106,-.5 106,-46.5 360,-46.5 360,-.5 106,-.5\" stroke=\"#000000\"/>\n<text fill=\"#000000\" font-family=\"Times,serif\" font-size=\"14.00\" text-anchor=\"middle\" x=\"138\" y=\"-19.8\">dense_7</text>\n<polyline fill=\"none\" points=\"170,-.5 170,-46.5 \" stroke=\"#000000\"/>\n<text fill=\"#000000\" font-family=\"Times,serif\" font-size=\"14.00\" text-anchor=\"middle\" x=\"196\" y=\"-19.8\">Dense</text>\n<polyline fill=\"none\" points=\"222,-.5 222,-46.5 \" stroke=\"#000000\"/>\n<text fill=\"#000000\" font-family=\"Times,serif\" font-size=\"14.00\" text-anchor=\"middle\" x=\"251\" y=\"-31.3\">input:</text>\n<polyline fill=\"none\" points=\"222,-23.5 280,-23.5 \" stroke=\"#000000\"/>\n<text fill=\"#000000\" font-family=\"Times,serif\" font-size=\"14.00\" text-anchor=\"middle\" x=\"251\" y=\"-8.3\">output:</text>\n<polyline fill=\"none\" points=\"280,-.5 280,-46.5 \" stroke=\"#000000\"/>\n<text fill=\"#000000\" font-family=\"Times,serif\" font-size=\"14.00\" text-anchor=\"middle\" x=\"320\" y=\"-31.3\">(None, 10)</text>\n<polyline fill=\"none\" points=\"280,-23.5 360,-23.5 \" stroke=\"#000000\"/>\n<text fill=\"#000000\" font-family=\"Times,serif\" font-size=\"14.00\" text-anchor=\"middle\" x=\"320\" y=\"-8.3\">(None, 1)</text>\n</g>\n<!-- 140236440736400&#45;&gt;140236434455568 -->\n<g class=\"edge\" id=\"edge7\">\n<title>140236440736400-&gt;140236434455568</title>\n<path d=\"M233,-83.3799C233,-75.1745 233,-65.7679 233,-56.8786\" fill=\"none\" stroke=\"#000000\"/>\n<polygon fill=\"#000000\" points=\"236.5001,-56.784 233,-46.784 229.5001,-56.784 236.5001,-56.784\" stroke=\"#000000\"/>\n</g>\n</g>\n</svg>"
          },
          "metadata": {},
          "execution_count": 30
        }
      ]
    }
  ]
}